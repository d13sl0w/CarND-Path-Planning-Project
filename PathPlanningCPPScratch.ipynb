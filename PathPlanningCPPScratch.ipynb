{
 "cells": [
  {
   "cell_type": "code",
   "execution_count": 1,
   "metadata": {},
   "outputs": [
    {
     "data": {
      "text/plain": []
     },
     "execution_count": 1,
     "metadata": {},
     "output_type": "execute_result"
    }
   ],
   "source": [
    "#include <iostream>      /* printf */\n",
    "#include <stdio.h>      /* printf */\n",
    "#include <math.h>       /* fmod */\n",
    "#include <vector>"
   ]
  },
  {
   "cell_type": "markdown",
   "metadata": {},
   "source": [
    "\n",
    "     id, xpos,     ypos,     v_x,      v_y,          s,        d"
   ]
  },
  {
   "cell_type": "code",
   "execution_count": 2,
   "metadata": {},
   "outputs": [
    {
     "data": {
      "text/plain": []
     },
     "execution_count": 2,
     "metadata": {},
     "output_type": "execute_result"
    }
   ],
   "source": [
    "std::vector<std::vector<double>> exsf {\n",
    "    {0, 1104.496, 1180.534, 14.93567, 2.602286,     327.8165, 5.593877},\n",
    "    {1, 899.132,  1124.793, 18.53895, 0.009354961,  114.5417, 10.00733},\n",
    "    {2, 1075.127, 1171.933, 15.81239, 6.646762,     295.5926, 6.029208},\n",
    "    {3, 1086.789, 1171.865, 2.803857, 0.8775838,    307.8892, 9.895656},\n",
    "    {4, 924.2803, 1124.935, 19.79928, 0.2018926,    139.6011, 10.02748},\n",
    "    {5, 1121.663, 1178.809, 16.07514, 1.513125,     344.6179, 9.514977},}\n",
    "    "
   ]
  },
  {
   "cell_type": "code",
   "execution_count": 3,
   "metadata": {},
   "outputs": [
    {
     "data": {
      "text/plain": []
     },
     "execution_count": 3,
     "metadata": {},
     "output_type": "execute_result"
    }
   ],
   "source": [
    "enum LANE { LEFT_LANE = 1, CENTER_LANE = 2, RIGHT_LANE = 3};\n",
    "\n",
    "enum STATE { KEEPING_LANE = 0, CHANGING_LANE = 1};\n",
    "\n",
    "struct Waypoint {\n",
    "    double x; // in map coordinates\n",
    "    double y;\n",
    "    double s; // distance along rode to get to point\n",
    "    double dx; // unit normal vector components of vector pointing out of loop\n",
    "    double dy;\n",
    "};\n",
    "\n",
    "struct PathPair { \n",
    "    std::vector<double> x_vals, y_vals; \n",
    "};\n",
    "\n",
    "// This should probably be an inheritance isssue, ProtoCar with OtherCar as a simple\n",
    "//  descendant and ControlledCar as the full on one... but of course data is given differently\n",
    "class OtherCar {\n",
    "    public:\n",
    "        int uid;\n",
    "        double x, y; // in map coordinates for all\n",
    "        double vx, vy; // in meters per second, of course OTHER CARS CAN EXCEED SPEED LIMIT BY 10MPH, WILL ALSO LIKE STAY ABOVE 50-10MPH\n",
    "        double s, d;\n",
    "        double speed, yaw; // relative to ego yaw?\n",
    "        LANE current_lane;\n",
    "//         STATE state;\n",
    "    \n",
    "    OtherCar(int _uid, double _x, double _y, double _vx, double _vy, double _s, double _d) {\n",
    "        uid = _uid;\n",
    "        x   = _x;\n",
    "        y   = _y;\n",
    "        vx  = _vx;\n",
    "        vy  = _vy;\n",
    "        s   = _s;\n",
    "        d   = _d;\n",
    "        \n",
    "        speed = sqrt(vx*vx + vy*vy); // from_above_vxvy\n",
    "        yaw   = atan2(vy, vx);\n",
    "        \n",
    "        current_lane = static_cast<LANE>((int)round(d / 2.)); // hacky, I know\n",
    "    } \n",
    "};\n",
    "\n",
    "OtherCar ocar(exsf[0][0], exsf[0][1], exsf[0][2], exsf[0][3], exsf[0][4], exsf[0][5], exsf[0][6])"
   ]
  },
  {
   "cell_type": "code",
   "execution_count": 7,
   "metadata": {},
   "outputs": [
    {
     "data": {
      "text/plain": [
       "(double) 0.172501\n"
      ]
     },
     "execution_count": 7,
     "metadata": {},
     "output_type": "execute_result"
    }
   ],
   "source": [
    "ocar.yaw"
   ]
  },
  {
   "cell_type": "code",
   "execution_count": null,
   "metadata": {},
   "outputs": [],
   "source": [
    "void FindCarsInConcernRegion() {\n",
    "   for  \n",
    "}"
   ]
  },
  {
   "cell_type": "code",
   "execution_count": null,
   "metadata": {},
   "outputs": [],
   "source": [
    "void ModulateSpeed() {\n",
    "\n",
    "}"
   ]
  },
  {
   "cell_type": "code",
   "execution_count": null,
   "metadata": {},
   "outputs": [],
   "source": [
    "void ChangeLane() {\n",
    "\n",
    "}"
   ]
  },
  {
   "cell_type": "code",
   "execution_count": null,
   "metadata": {},
   "outputs": [],
   "source": [
    "class Rectangle {\n",
    "    private:\n",
    "        double w;\n",
    "        double h;\n",
    "\n",
    "    public:\n",
    "    \n",
    "        Rectangle(double w_, double h_) {\n",
    "            w = w_;\n",
    "            h = h_;\n",
    "        }\n",
    "        double area(void) {\n",
    "            return w * h;\n",
    "        }\n",
    "        double perimiter(void) {\n",
    "            return 2 * (w + h);\n",
    "        }\n",
    "};\n",
    "\n",
    "Rectangle r = Rectangle(5, 4);\n",
    "r.area();"
   ]
  },
  {
   "cell_type": "code",
   "execution_count": null,
   "metadata": {},
   "outputs": [],
   "source": [
    "\n",
    "\n",
    "printf ( \"fmod of 5.3 / 2 is %f\\n\", fmod (5.3,2) );\n",
    "printf ( \"fmod of 18.5 / 4.2 is %f\\n\", fmod (18.5,4.2) );"
   ]
  },
  {
   "cell_type": "code",
   "execution_count": null,
   "metadata": {},
   "outputs": [],
   "source": [
    "Class FrenetMod {\n",
    "    public:\n",
    "        FrenetMod(Double )\n",
    "     static constexpr double mod = 10.0;\n",
    "}"
   ]
  },
  {
   "cell_type": "code",
   "execution_count": null,
   "metadata": {},
   "outputs": [],
   "source": [
    "#include <iostream>      /* printf */\n",
    "#include <stdio.h>      /* printf */\n",
    "#include <math.h>       /* fmod */\n",
    "\n",
    "#define double_mod 10.0"
   ]
  },
  {
   "cell_type": "code",
   "execution_count": null,
   "metadata": {},
   "outputs": [],
   "source": [
    "class FrenetS {\n",
    "    // helper to maintain sanity dealing with the loop and Frenet coordinats\n",
    "    private:\n",
    "        double s;\n",
    "\n",
    "    public:\n",
    "        // overloading '<<'\n",
    "        friend std::ostream& operator<<(std::ostream& os, FrenetS const & num) {\n",
    "            return os << num.s;\n",
    "        }\n",
    "        \n",
    "        FrenetS(double s_input) : s(fmod(s_input, double_mod)) {}\n",
    "};"
   ]
  },
  {
   "cell_type": "code",
   "execution_count": null,
   "metadata": {},
   "outputs": [],
   "source": [
    "FrenetS s{9};\n",
    "std::cout << \"frenet number after modulo is: \" << s << std::endl;"
   ]
  },
  {
   "cell_type": "code",
   "execution_count": null,
   "metadata": {},
   "outputs": [],
   "source": [
    "double k{9}"
   ]
  },
  {
   "cell_type": "code",
   "execution_count": null,
   "metadata": {},
   "outputs": [],
   "source": [
    "k"
   ]
  },
  {
   "cell_type": "code",
   "execution_count": null,
   "metadata": {},
   "outputs": [],
   "source": [
    "#define ll long long int\n",
    "#define MOD 1000000007\n",
    "\n",
    "template<typename Number, Number m>\n",
    "class modNum\n",
    "{\n",
    "private:\n",
    "    Number a;\n",
    "public:\n",
    "    // overloading '<<'\n",
    "    friend ostream& operator<<(ostream& os, modNum const & num) {\n",
    "          return os << num.a;\n",
    "      }\n",
    "    modNum(Number a) : a(a % m) {}\n",
    "\n",
    "    Number get() const { return a; }\n",
    "\n",
    "    modNum operator+= (modNum b){ a = (a + b.get()) % m; return a; }\n",
    "    modNum operator*= (modNum b){ a = (a * b.get()) % m; return a; }\n",
    "    modNum operator/= (modNum b){ a = (a / b.get()) % m; return a; }\n",
    "    modNum operator-= (modNum b){ a = (a - b.get()) % m; return a; }\n",
    "    modNum operator + (modNum b){modNum t = (a + b.get()) % m; return t;}\n",
    "    modNum operator * (modNum b){modNum t = (a * b.get()) % m; return t;}\n",
    "    modNum operator / (modNum b){modNum t = (a / b.get()) % m; return t;}\n",
    "    modNum operator - (modNum b){modNum t = (a - b.get()) % m; return t;}\n",
    "\n",
    "};\n",
    "typedef modNum<ll, MOD> num_t;\n",
    "//testing the code-\n",
    "int int_max = 2147483647;\n",
    "int sqroot_max = sqrt(int_max);\n",
    "\n",
    "int main()\n",
    "{\n",
    "    num_t sumX(sqroot_max),sumZ(sqroot_max),Y(sqroot_max);\n",
    "    std::cout<<(sumX*sumZ + sumX+sumZ)*Y;\n",
    "    // (((sumX*sumZ) % MOD + (sumX + sumZ) % MOD) % MOD * Y) % MOD;\n",
    "    return 0;\n",
    "}"
   ]
  },
  {
   "cell_type": "code",
   "execution_count": null,
   "metadata": {},
   "outputs": [],
   "source": []
  }
 ],
 "metadata": {
  "kernelspec": {
   "display_name": "C++14",
   "language": "",
   "name": "cling-cpp14"
  },
  "language_info": {
   "codemirror_mode": "c++",
   "file_extension": ".c++",
   "mimetype": "text/x-c++src",
   "name": "c++"
  }
 },
 "nbformat": 4,
 "nbformat_minor": 2
}
